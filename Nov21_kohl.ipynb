{
  "nbformat": 4,
  "nbformat_minor": 0,
  "metadata": {
    "colab": {
      "provenance": [],
      "authorship_tag": "ABX9TyMd4DtFV176olIqfpiCvvoU",
      "include_colab_link": true
    },
    "kernelspec": {
      "name": "python3",
      "display_name": "Python 3"
    },
    "language_info": {
      "name": "python"
    }
  },
  "cells": [
    {
      "cell_type": "markdown",
      "metadata": {
        "id": "view-in-github",
        "colab_type": "text"
      },
      "source": [
        "<a href=\"https://colab.research.google.com/github/BelenKohl/SRMP/blob/main/Nov21_kohl.ipynb\" target=\"_parent\"><img src=\"https://colab.research.google.com/assets/colab-badge.svg\" alt=\"Open In Colab\"/></a>"
      ]
    },
    {
      "cell_type": "code",
      "execution_count": 2,
      "metadata": {
        "id": "Xu0hF9Vpe_Od"
      },
      "outputs": [],
      "source": [
        "import pandas as pd\n",
        "import numpy as np"
      ]
    },
    {
      "cell_type": "code",
      "source": [
        "from google.colab import drive\n",
        "drive.mount('/content/drive')"
      ],
      "metadata": {
        "colab": {
          "base_uri": "https://localhost:8080/"
        },
        "id": "ieahBf374fUy",
        "outputId": "1d9a1b8c-78a9-470d-efad-a89cc0f96104"
      },
      "execution_count": 9,
      "outputs": [
        {
          "output_type": "stream",
          "name": "stdout",
          "text": [
            "Mounted at /content/drive\n"
          ]
        }
      ]
    },
    {
      "cell_type": "code",
      "source": [
        "!git clone https://github.com/BelenKohl/SRMP.git"
      ],
      "metadata": {
        "colab": {
          "base_uri": "https://localhost:8080/"
        },
        "id": "SAl5KWwh2thr",
        "outputId": "6a9895f7-d7be-411f-9bec-cf296b8b8468"
      },
      "execution_count": 10,
      "outputs": [
        {
          "output_type": "stream",
          "name": "stdout",
          "text": [
            "fatal: destination path 'SRMP' already exists and is not an empty directory.\n"
          ]
        }
      ]
    },
    {
      "cell_type": "code",
      "source": [
        "df=pd.read_csv('Gaia_Prot_cmatch.csv')"
      ],
      "metadata": {
        "id": "oiUA0eow3i8X"
      },
      "execution_count": 5,
      "outputs": []
    },
    {
      "cell_type": "code",
      "source": [
        "df.columns"
      ],
      "metadata": {
        "colab": {
          "base_uri": "https://localhost:8080/"
        },
        "id": "gNWgHtLj4Fdf",
        "outputId": "6b778d74-b8b7-47df-b245-9602345f0d8f"
      },
      "execution_count": 6,
      "outputs": [
        {
          "output_type": "execute_result",
          "data": {
            "text/plain": [
              "Index(['Prot', 'abs_G', 'teff_calc', 'source_id', 'solution_id', 'designation',\n",
              "       'random_index', 'ref_epoch', 'ra', 'ra_error',\n",
              "       ...\n",
              "       'dr2_radial_velocity_error', 'dr2_rv_nb_transits',\n",
              "       'dr2_rv_template_teff', 'dr2_rv_template_logg', 'dr2_rv_template_fe_h',\n",
              "       'l', 'b', 'ecl_lon', 'ecl_lat', 'tab_uploaded_oid'],\n",
              "      dtype='object', length=103)"
            ]
          },
          "metadata": {},
          "execution_count": 6
        }
      ]
    },
    {
      "cell_type": "code",
      "source": [
        "import"
      ],
      "metadata": {
        "id": "sBfJ87pv4MeM"
      },
      "execution_count": null,
      "outputs": []
    }
  ]
}